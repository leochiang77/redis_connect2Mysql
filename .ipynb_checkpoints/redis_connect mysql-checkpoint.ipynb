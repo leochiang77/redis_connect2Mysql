{
 "cells": [
  {
   "cell_type": "markdown",
   "metadata": {},
   "source": [
    "## https://redisdesktop.com/download\n",
    "## http://www.runoob.com/redis/lists-lpush.html\n",
    "## http://www.zendei.com/article/997.html\n",
    "## https://github.com/josiahcarlson/redis-in-action/tree/master/python\n",
    "## https://maoxian.de/2015/08/1342.html"
   ]
  },
  {
   "cell_type": "markdown",
   "metadata": {},
   "source": [
    "### from mysql to redis"
   ]
  },
  {
   "cell_type": "code",
   "execution_count": 4,
   "metadata": {
    "collapsed": false
   },
   "outputs": [
    {
     "name": "stdout",
     "output_type": "stream",
     "text": [
      "ok\n",
      "ok\n",
      "ok\n"
     ]
    }
   ],
   "source": [
    "\n",
    "\n",
    "import redis\n",
    "import MySQLdb\n",
    "from collections import Counter\n",
    "\n",
    "\n",
    "class dataProcessor(object):\n",
    "    MYSQL_IP_ADDRESS_SERVER = 'localhost'\n",
    "    MYSQL_USER = ''\n",
    "    MYSQL_PASSWORD = ''\n",
    "    MYSQL_DATABASE_NAME = ''\n",
    "\n",
    "    # Redis server data\n",
    "    REDIS_SERVER = 'localhost'\n",
    "\n",
    "def sql_to_redis():\n",
    "    r_redis = redis.StrictRedis(dataProcessor.REDIS_SERVER)\n",
    "    print 'ok'\n",
    "    database = MySQLdb.connect(dataProcessor.MYSQL_IP_ADDRESS_SERVER, dataProcessor.MYSQL_USER, dataProcessor.MYSQL_PASSWORD, dataProcessor.MYSQL_DATABASE_NAME)\n",
    "    print 'ok'\n",
    "    cursor = database.cursor()\n",
    "    sql = 'SELECT * FROM test'\n",
    " \n",
    "    cursor.execute(sql)\n",
    "    data = cursor.fetchall()\n",
    "    print 'ok'\n",
    "    \n",
    "    # # Clean redis before run again\n",
    "    # # This is for test purpose\n",
    "#     r_redis.delete(\"all_records\")\n",
    "\n",
    "#     # # Put all data from MySQL to Redis\n",
    "    for row in data:\n",
    "        \n",
    "        # 比較字串,會有空白要注意\n",
    "#         print repr(row[0].decode('utf-8'))\n",
    "#         if(cmp(row[0].decode('utf-8'),u'leo ')==0):\n",
    "#             print 'smae'\n",
    "#         print type(row[0]),row[3]\n",
    "\n",
    "#         #list\n",
    "#         r_redis.lpush(row[0], row[3])\n",
    "        \n",
    "    \n",
    "        #hash (好像不能是變數)\n",
    "#         r_redis.hmset(row[0],{'good': row[3],'bad': row[3],})    \n",
    "#         r.hmset('blogtable_userDetails_John', {'password':'abcd', 'lastlogindate':'2012-20-9'})\n",
    "\n",
    "    # Close connection to DB and Cursor\n",
    "    cursor.close()\n",
    "    database.close()\n",
    "    \n",
    "sql_to_redis()"
   ]
  },
  {
   "cell_type": "markdown",
   "metadata": {},
   "source": [
    "### from web to redis"
   ]
  },
  {
   "cell_type": "code",
   "execution_count": 23,
   "metadata": {
    "collapsed": false
   },
   "outputs": [],
   "source": [
    "## 嘗試了一般key_value, list\n",
    "REDIS_SERVER = ''\n",
    "r_redis2 = redis.Redis(REDIS_SERVER)\n",
    "def web2redis(url,value):\n",
    "    r_redis2.incr(url,value)\n",
    "#     r_redis2.lpush(url, value)\n",
    "\n",
    "def web2redisd(url,value):\n",
    "    r_redis2.decr(url,value)\n",
    "web2redisd('leo1',1)\n",
    "    "
   ]
  },
  {
   "cell_type": "markdown",
   "metadata": {},
   "source": [
    "### from web to redis (for reback)"
   ]
  },
  {
   "cell_type": "code",
   "execution_count": null,
   "metadata": {
    "collapsed": true
   },
   "outputs": [],
   "source": [
    "## 嘗試了一般key_value, list\n",
    "REDIS_SERVER = ''\n",
    "r_redis2 = redis.Redis(REDIS_SERVER,db=1)\n",
    "def web2redis(url,value):\n",
    "    r_redis2.incr(url,value)\n",
    "#     r_redis2.lpush(url, value)\n",
    "\n",
    "def web2redisd(url,value):\n",
    "    r_redis2.decr(url,value)\n",
    "\n",
    "    \n",
    "    \n",
    "def sort_replace(row_t,test):\n",
    "    # print test.keys()\n",
    "    row_list=sorted(row_t.values())\n",
    "    print row_list\n",
    "    if (test.keys() > row_list[0]):\n",
    "        row_list[0]=test\n",
    "    row2=row_list\n",
    "    \n",
    "#     print row2\n",
    "#     print row_list\n",
    "    return row2\n",
    "\n",
    "sort_replace(row,test)\n",
    "\n",
    "web2redisd('leo1',1)"
   ]
  },
  {
   "cell_type": "code",
   "execution_count": null,
   "metadata": {
    "collapsed": true
   },
   "outputs": [],
   "source": [
    "##test\n",
    "\n",
    "# row=[{},{},{},{},{}]\n",
    "row=[{'a':1},{'b':4},{'c':3},{'d':6},{'e':5}]\n",
    "row2=[{1:'a'},{4:'b'},{3:'c'},{6:'d'},{5:'e'}]\n",
    "test={7:'f'}\n",
    "test1={8:'g'}"
   ]
  },
  {
   "cell_type": "code",
   "execution_count": 22,
   "metadata": {
    "collapsed": false
   },
   "outputs": [
    {
     "name": "stdout",
     "output_type": "stream",
     "text": [
      "[{30: 'jack'}, {0: ''}, {0: ''}, {0: ''}, {0: ''}]\n",
      "[{2: 'leo2'}, {0: ''}, {0: ''}, {0: ''}, {30: 'jack'}]\n",
      "[{0: ''}, {0: ''}, {0: ''}, {2: 'leo2'}, {30: 'jack'}]\n",
      "[{31: 'jack1'}, {0: ''}, {0: ''}, {2: 'leo2'}, {30: 'jack'}]\n",
      "[{1: 'jeff'}, {0: ''}, {2: 'leo2'}, {30: 'jack'}, {31: 'jack1'}]\n",
      "[{1: 'leo'}, {1: 'jeff'}, {2: 'leo2'}, {30: 'jack'}, {31: 'jack1'}]\n"
     ]
    },
    {
     "data": {
      "text/plain": [
       "[{1: 'leo'}, {1: 'jeff'}, {2: 'leo2'}, {30: 'jack'}, {31: 'jack1'}]"
      ]
     },
     "execution_count": 22,
     "metadata": {},
     "output_type": "execute_result"
    }
   ],
   "source": [
    "import redis\n",
    "REDIS_SERVER = 'localhost'\n",
    "r_redis2 = redis.Redis(REDIS_SERVER)\n",
    "array=[{0:''},{0:''},{0:''},{0:''},{0:''}]\n",
    "\n",
    "\n",
    "def sortlovestuff(array):\n",
    "    for ele in r_redis2.keys():\n",
    "        row_list=sorted(array)\n",
    "    #     print row_list\n",
    "#         print ele\n",
    "        res=int(r_redis2.get(ele))\n",
    "#         print res\n",
    "\n",
    "    #     print row_list[0].keys()[0]\n",
    "        if (res > row_list[0].keys()[0]):\n",
    "            row_list[0]={res:ele}\n",
    "        array=row_list\n",
    "        print array\n",
    "    return array\n",
    "\n",
    "\n",
    "sortlovestuff(array)\n",
    "\n",
    "\n"
   ]
  },
  {
   "cell_type": "markdown",
   "metadata": {},
   "source": [
    "### from redis to mysql"
   ]
  },
  {
   "cell_type": "code",
   "execution_count": 78,
   "metadata": {
    "collapsed": false
   },
   "outputs": [
    {
     "name": "stdout",
     "output_type": "stream",
     "text": [
      "leo 1\n",
      "UPDATE test2 SET age=1  WHERE name like 'leo'\n",
      "jenny 1\n",
      "UPDATE test2 SET age=1  WHERE name like 'jenny'\n"
     ]
    }
   ],
   "source": [
    "REDIS_SERVER = 'localhost'\n",
    "r_redis2 = redis.Redis(REDIS_SERVER)\n",
    "\n",
    "class dataProcessor(object):\n",
    "    MYSQL_IP_ADDRESS_SERVER = 'localhost'\n",
    "    MYSQL_USER = 'root'\n",
    "    MYSQL_PASSWORD = ''\n",
    "    MYSQL_DATABASE_NAME = ''\n",
    "\n",
    "    # Redis server data\n",
    "    REDIS_SERVER = 'localhost'\n",
    "\n",
    "database = MySQLdb.connect(dataProcessor.MYSQL_IP_ADDRESS_SERVER, dataProcessor.MYSQL_USER, dataProcessor.MYSQL_PASSWORD, dataProcessor.MYSQL_DATABASE_NAME)\n",
    "\n",
    "\n",
    "##查看有幾個\n",
    "for ele in r_redis2.keys():\n",
    "# #     print ele\n",
    "#     res=r_redis2.llen(ele)\n",
    "    res=int(r_redis2.get(ele))\n",
    "    cursor = database.cursor()\n",
    "    ele=ele.strip()\n",
    "    print ele, res\n",
    "    sql = \"UPDATE test2 SET age={0}  WHERE name like '{1}'\".format(res,ele)\n",
    "    print sql\n",
    " \n",
    "    cursor.execute(sql)\n",
    "    database.commit()\n",
    "#     print ele,res\n"
   ]
  },
  {
   "cell_type": "markdown",
   "metadata": {},
   "source": [
    "## transaction"
   ]
  },
  {
   "cell_type": "code",
   "execution_count": 22,
   "metadata": {
    "collapsed": false
   },
   "outputs": [],
   "source": [
    "def incre(url,valus):\n",
    "    with r_redis2.pipeline() as pipe:\n",
    "        while 1:\n",
    "            try:\n",
    "                # 关注一个key\n",
    "                pipe.watch('leo2')\n",
    "    #             current_value = pipe.get('leo2')\n",
    "    #             next_value = int(current_value) + 1\n",
    "                #事物开始\n",
    "                pipe.multi()\n",
    "                pipe.incr(url,valus)\n",
    "                # 事务结束\n",
    "                pipe.execute()\n",
    "                # 把命令推送过去\n",
    "                break\n",
    "            except redis.WatchError:\n",
    "                #如果客户端有变动的话，那么就会触发这个异常。 \n",
    "                continue\n",
    "            finally:\n",
    "                pipe.reset()\n",
    "                \n",
    "def decre(url,valus):\n",
    "    with r_redis2.pipeline() as pipe:\n",
    "        while 1:\n",
    "            try:\n",
    "                # 关注一个key\n",
    "                pipe.watch('leo2')\n",
    "    #             current_value = pipe.get('leo2')\n",
    "    #             next_value = int(current_value) + 1\n",
    "                #事物开始\n",
    "                pipe.multi()\n",
    "                pipe.decr(url,valus)\n",
    "                # 事务结束\n",
    "                pipe.execute()\n",
    "                # 把命令推送过去\n",
    "                break\n",
    "            except redis.WatchError:\n",
    "                #如果客户端有变动的话，那么就会触发这个异常。 \n",
    "                continue\n",
    "            finally:\n",
    "                pipe.reset()\n",
    "                \n",
    "# incre('leo2',1)\n",
    "decre('leo2',1)"
   ]
  }
 ],
 "metadata": {
  "kernelspec": {
   "display_name": "Python 2",
   "language": "python",
   "name": "python2"
  },
  "language_info": {
   "codemirror_mode": {
    "name": "ipython",
    "version": 2
   },
   "file_extension": ".py",
   "mimetype": "text/x-python",
   "name": "python",
   "nbconvert_exporter": "python",
   "pygments_lexer": "ipython2",
   "version": "2.7.11"
  }
 },
 "nbformat": 4,
 "nbformat_minor": 0
}
